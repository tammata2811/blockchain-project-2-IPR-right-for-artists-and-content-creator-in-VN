{
  "nbformat": 4,
  "nbformat_minor": 0,
  "metadata": {
    "colab": {
      "provenance": [],
      "authorship_tag": "ABX9TyMPEK7TAPsFUVJg8YATWd+d",
      "include_colab_link": true
    },
    "kernelspec": {
      "name": "python3",
      "display_name": "Python 3"
    },
    "language_info": {
      "name": "python"
    }
  },
  "cells": [
    {
      "cell_type": "markdown",
      "metadata": {
        "id": "view-in-github",
        "colab_type": "text"
      },
      "source": [
        "<a href=\"https://colab.research.google.com/github/tammata2811/blockchain-project-2-IPR-right-for-artists-and-content-creator-in-VN/blob/main/Intellectual_Property_Rights_for_registeration%2C_divide_copyright_using_smart_contract%2C_license_manager%2C_Simulate_NFT_Marketplace_to_sell_works_without_third_parties.ipynb\" target=\"_parent\"><img src=\"https://colab.research.google.com/assets/colab-badge.svg\" alt=\"Open In Colab\"/></a>"
      ]
    },
    {
      "cell_type": "markdown",
      "source": [
        "##Intellectual Property Rights for registeration, divide copyright using smart contract, license manager, Simulate NFT Marketplace to sell works without third parties"
      ],
      "metadata": {
        "id": "XVrfIFbdA2DI"
      }
    },
    {
      "cell_type": "markdown",
      "source": [
        "####1.Generate SHA256 Hash Function – used to generate work ID"
      ],
      "metadata": {
        "id": "QyUF-8lgCZYI"
      }
    },
    {
      "cell_type": "code",
      "source": [
        "import hashlib\n",
        "import time\n",
        "\n",
        "def hash_function(input_str: str) -> str:\n",
        "    return hashlib.sha256(input_str.encode()).hexdigest()\n"
      ],
      "metadata": {
        "id": "33kDW7nlCSWh"
      },
      "execution_count": 1,
      "outputs": []
    },
    {
      "cell_type": "markdown",
      "source": [
        "####2. Declare IP Asset and Transaction classes"
      ],
      "metadata": {
        "id": "jRTA5QFUCnVZ"
      }
    },
    {
      "cell_type": "code",
      "source": [
        "class IPAsset:\n",
        "    def __init__(self, owner, title, content_type, creation_date, authority):\n",
        "        self.id = hash_function(owner + title)\n",
        "        self.owner = owner\n",
        "        self.title = title\n",
        "        self.content_type = content_type\n",
        "        self.creation_date = creation_date\n",
        "        self.authority = authority\n",
        "\n",
        "class Transaction:\n",
        "    def __init__(self, from_owner, to_owner, ip_id):\n",
        "        self.from_owner = from_owner\n",
        "        self.to_owner = to_owner\n",
        "        self.ip_id = ip_id\n",
        "        self.timestamp = time.time()\n"
      ],
      "metadata": {
        "id": "4PkcaWwuCyQY"
      },
      "execution_count": 2,
      "outputs": []
    },
    {
      "cell_type": "markdown",
      "source": [
        "####3. IPChain Management Layer"
      ],
      "metadata": {
        "id": "ZyhAY7NpC1uz"
      }
    },
    {
      "cell_type": "code",
      "source": [
        "class IPChain:\n",
        "    def __init__(self):\n",
        "        self.assets = {}\n",
        "        self.transactions = {}\n",
        "\n",
        "    def register_asset(self, owner, title, content_type, creation_date, authority):\n",
        "        asset_id = hash_function(owner + title)\n",
        "        if asset_id in self.assets:\n",
        "            print(f\"[!] Tác phẩm đã tồn tại.\")\n",
        "            return None\n",
        "        asset = IPAsset(owner, title, content_type, creation_date, authority)\n",
        "        self.assets[asset.id] = asset\n",
        "        print(f\"[+] Đăng ký thành công: {title} bởi {owner}\")\n",
        "        return asset.id\n",
        "\n",
        "    def transfer_rights(self, from_owner, to_owner, ip_id):\n",
        "        asset = self.assets.get(ip_id)\n",
        "        if not asset or asset.owner != from_owner:\n",
        "            print(\"[!] Giao dịch không hợp lệ\")\n",
        "            return False\n",
        "        asset.owner = to_owner\n",
        "        self.transactions.setdefault(ip_id, []).append(Transaction(from_owner, to_owner, ip_id))\n",
        "        print(f\"[+] Chuyển quyền cho {to_owner} thành công.\")\n",
        "        return True\n",
        "\n",
        "    def print_assets(self):\n",
        "        print(\"\\n🔐 Tác phẩm đã đăng ký:\")\n",
        "        for asset in self.assets.values():\n",
        "            print(f\"  - {asset.title} | Chủ: {asset.owner} | ID: {asset.id[:10]}...\")\n"
      ],
      "metadata": {
        "id": "tPUI6MydDIm1"
      },
      "execution_count": 3,
      "outputs": []
    },
    {
      "cell_type": "markdown",
      "source": [
        "####4.Divide copyright using Smart Contract"
      ],
      "metadata": {
        "id": "22Aj7ODmDMAp"
      }
    },
    {
      "cell_type": "code",
      "source": [
        "class SmartContractRoyalty:\n",
        "    def __init__(self, ip_id, contributors_shares):\n",
        "        self.ip_id = ip_id\n",
        "        self.shares = contributors_shares\n",
        "        self.payments = []\n",
        "\n",
        "    def distribute_payment(self, total_amount):\n",
        "        print(f\"\\n💸 Phân phối {total_amount} VND cho tác phẩm {self.ip_id}\")\n",
        "        for contributor, percent in self.shares.items():\n",
        "            amount = total_amount * percent / 100\n",
        "            print(f\"  -> {contributor} nhận {amount:.2f} VND ({percent}%)\")\n",
        "            self.payments.append({\n",
        "                \"contributor\": contributor,\n",
        "                \"amount\": amount\n",
        "            })\n"
      ],
      "metadata": {
        "id": "fuOKcHm-Dcxv"
      },
      "execution_count": 4,
      "outputs": []
    },
    {
      "cell_type": "markdown",
      "source": [
        "####5.License Manager"
      ],
      "metadata": {
        "id": "jPgGBuweDlA8"
      }
    },
    {
      "cell_type": "code",
      "source": [
        "class License:\n",
        "    def __init__(self, user, ip_id, license_type, expiry_date):\n",
        "        self.user = user\n",
        "        self.ip_id = ip_id\n",
        "        self.license_type = license_type\n",
        "        self.expiry_date = expiry_date\n",
        "\n",
        "class LicenseManager:\n",
        "    def __init__(self):\n",
        "        self.licenses = []\n",
        "\n",
        "    def grant_license(self, user, ip_id, license_type, expiry_date):\n",
        "        license_obj = License(user, ip_id, license_type, expiry_date)\n",
        "        self.licenses.append(license_obj)\n",
        "        print(f\"[+] Cấp quyền {license_type} cho {user} tới {expiry_date} với tác phẩm {ip_id}\")\n",
        "\n",
        "    def check_license(self, user, ip_id):\n",
        "        for l in self.licenses:\n",
        "            if l.user == user and l.ip_id == ip_id:\n",
        "                print(f\"✔ {user} có quyền '{l.license_type}' với {ip_id} tới {l.expiry_date}\")\n",
        "                return\n",
        "        print(f\"✘ {user} không có quyền với {ip_id}\")\n"
      ],
      "metadata": {
        "id": "3cORUNM9Dq5c"
      },
      "execution_count": 5,
      "outputs": []
    },
    {
      "cell_type": "markdown",
      "source": [
        "####6. Simulate NFT Marketplace to sell works without third parties"
      ],
      "metadata": {
        "id": "XLZygoEWDyOD"
      }
    },
    {
      "cell_type": "code",
      "source": [
        "class NFTMarketplace:\n",
        "    def __init__(self):\n",
        "        self.listings = {}\n",
        "\n",
        "    def list_asset(self, asset_id, price):\n",
        "        self.listings[asset_id] = price\n",
        "        print(f\"[+] Tác phẩm {asset_id[:10]}... đã được niêm yết với giá {price} VND\")\n",
        "\n",
        "    def buy_asset(self, buyer, ip_chain: IPChain, asset_id):\n",
        "        if asset_id not in self.listings:\n",
        "            print(\"[!] Tác phẩm không được niêm yết.\")\n",
        "            return\n",
        "        asset = ip_chain.assets.get(asset_id)\n",
        "        if not asset:\n",
        "            print(\"[!] Tác phẩm không tồn tại.\")\n",
        "            return\n",
        "        price = self.listings.pop(asset_id)\n",
        "        ip_chain.transfer_rights(asset.owner, buyer, asset_id)\n",
        "        print(f\"💰 {buyer} đã mua tác phẩm với giá {price} VND\")\n"
      ],
      "metadata": {
        "id": "_vrXVHCMD0QZ"
      },
      "execution_count": 6,
      "outputs": []
    },
    {
      "cell_type": "markdown",
      "source": [
        "####7.Demo"
      ],
      "metadata": {
        "id": "wj34rOddD5Bf"
      }
    },
    {
      "cell_type": "code",
      "source": [
        "# Create an instance of IPChain\n",
        "ip_chain = IPChain()\n",
        "license_mgr = LicenseManager()\n",
        "market = NFTMarketplace()\n",
        "\n",
        "release_date = \"2025-03-31\"\n",
        "ip_id = ip_chain.register_asset(\"Hoa Minzy\", \"MV: Bắc Bling\", \"Music\", release_date, \"Cục Bản quyền\")\n",
        "\n",
        "# Chia sẻ bản quyền\n",
        "royalty_contract = SmartContractRoyalty(ip_id, {\n",
        "    \"HoaMinzy\": 50,\n",
        "    \"XuanHinh\": 30,\n",
        "    \"TuanCry\": 20\n",
        "})\n",
        "royalty_contract.distribute_payment(5000000)\n",
        "\n",
        "# Cấp License\n",
        "license_mgr.grant_license(\"User123\", ip_id, \"display\", \"2025-12-31\")\n",
        "license_mgr.check_license(\"User123\", ip_id)\n",
        "\n",
        "# Bán tác phẩm\n",
        "market.list_asset(ip_id, 10000000)\n",
        "market.buy_asset(\"BuyerX\", ip_chain, ip_id)\n",
        "\n",
        "# In danh sách tác phẩm\n",
        "ip_chain.print_assets()"
      ],
      "metadata": {
        "colab": {
          "base_uri": "https://localhost:8080/"
        },
        "id": "ly6CZV0VGX9y",
        "outputId": "6636ca5f-26ab-410e-a110-446279bbde31"
      },
      "execution_count": 11,
      "outputs": [
        {
          "output_type": "stream",
          "name": "stdout",
          "text": [
            "[+] Đăng ký thành công: MV: Bắc Bling bởi Hoa Minzy\n",
            "\n",
            "💸 Phân phối 5000000 VND cho tác phẩm 8bfc025b3ad10a5739b14c835735f5e75a85e00c3002310dcd1703c33065a83b\n",
            "  -> HoaMinzy nhận 2500000.00 VND (50%)\n",
            "  -> XuanHinh nhận 1500000.00 VND (30%)\n",
            "  -> TuanCry nhận 1000000.00 VND (20%)\n",
            "[+] Cấp quyền display cho User123 tới 2025-12-31 với tác phẩm 8bfc025b3ad10a5739b14c835735f5e75a85e00c3002310dcd1703c33065a83b\n",
            "✔ User123 có quyền 'display' với 8bfc025b3ad10a5739b14c835735f5e75a85e00c3002310dcd1703c33065a83b tới 2025-12-31\n",
            "[+] Tác phẩm 8bfc025b3a... đã được niêm yết với giá 10000000 VND\n",
            "[+] Chuyển quyền cho BuyerX thành công.\n",
            "💰 BuyerX đã mua tác phẩm với giá 10000000 VND\n",
            "\n",
            "🔐 Tác phẩm đã đăng ký:\n",
            "  - MV: Bắc Bling | Chủ: BuyerX | ID: 8bfc025b3a...\n"
          ]
        }
      ]
    }
  ]
}