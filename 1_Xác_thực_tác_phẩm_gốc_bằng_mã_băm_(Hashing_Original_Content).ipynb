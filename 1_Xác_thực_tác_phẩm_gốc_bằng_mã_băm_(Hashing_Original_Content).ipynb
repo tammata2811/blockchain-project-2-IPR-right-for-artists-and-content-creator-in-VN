{
  "nbformat": 4,
  "nbformat_minor": 0,
  "metadata": {
    "colab": {
      "provenance": [],
      "authorship_tag": "ABX9TyNXc1406CbZ8BTEhTOB3kNA",
      "include_colab_link": true
    },
    "kernelspec": {
      "name": "python3",
      "display_name": "Python 3"
    },
    "language_info": {
      "name": "python"
    }
  },
  "cells": [
    {
      "cell_type": "markdown",
      "metadata": {
        "id": "view-in-github",
        "colab_type": "text"
      },
      "source": [
        "<a href=\"https://colab.research.google.com/github/tammata2811/blockchain-project-2-IPR-right-for-artists-and-content-creator-in-VN/blob/main/1_X%C3%A1c_th%E1%BB%B1c_t%C3%A1c_ph%E1%BA%A9m_g%E1%BB%91c_b%E1%BA%B1ng_m%C3%A3_b%C4%83m_(Hashing_Original_Content).ipynb\" target=\"_parent\"><img src=\"https://colab.research.google.com/assets/colab-badge.svg\" alt=\"Open In Colab\"/></a>"
      ]
    },
    {
      "cell_type": "code",
      "execution_count": null,
      "metadata": {
        "id": "K5Kjd8hJ2g43"
      },
      "outputs": [],
      "source": [
        "### 1: Hàm tạo mã băm SHA256 cho tác phẩm"
      ]
    },
    {
      "cell_type": "code",
      "source": [
        "# Hàm tạo mã băm cho nội dung\n",
        "def hash_content(content):\n",
        "    return hashlib.sha256(content.encode()).hexdigest()\n",
        "\n",
        "# Cơ sở dữ liệu đơn giản lưu hash các tác phẩm gốc\n",
        "original_hashes = {}\n"
      ],
      "metadata": {
        "id": "HnvZ15nM21R4"
      },
      "execution_count": null,
      "outputs": []
    },
    {
      "cell_type": "markdown",
      "source": [
        "### 2: Thêm tác phẩm gốc vào hệ thống"
      ],
      "metadata": {
        "id": "-EWlEJQv28GX"
      }
    },
    {
      "cell_type": "markdown",
      "source": [],
      "metadata": {
        "id": "6e42vro62yH_"
      }
    },
    {
      "cell_type": "code",
      "source": [
        "import hashlib # Importing the hashlib module\n",
        "\n",
        "# Hàm tạo mã băm cho nội dung\n",
        "def hash_content(content):\n",
        "    return hashlib.sha256(content.encode()).hexdigest()\n",
        "\n",
        "# Cơ sở dữ liệu đơn giản lưu hash các tác phẩm gốc\n",
        "original_hashes = {}\n",
        "\n",
        "# Tác phẩm gốc\n",
        "original_title = \"Bức tranh quê\"\n",
        "original_content = \"Chiều buông xuống làng quê yên bình, khói lam chiều tỏa khắp triền đê.\"\n",
        "\n",
        "# Tạo hash và lưu vào hệ thống\n",
        "content_hash = hash_content(original_content)\n",
        "original_hashes[original_title] = content_hash\n",
        "\n",
        "print(f\"✅ Đã lưu mã băm cho tác phẩm '{original_title}': {content_hash[:10]}...\")"
      ],
      "metadata": {
        "colab": {
          "base_uri": "https://localhost:8080/"
        },
        "id": "DHFo29OS3SGv",
        "outputId": "922dbf66-0950-46c7-9d47-03e8c06f7e2a"
      },
      "execution_count": null,
      "outputs": [
        {
          "output_type": "stream",
          "name": "stdout",
          "text": [
            "✅ Đã lưu mã băm cho tác phẩm 'Bức tranh quê': 6b98b2fec9...\n"
          ]
        }
      ]
    },
    {
      "cell_type": "markdown",
      "source": [
        "###3: Kiểm tra tác phẩm nhập vào có khớp không"
      ],
      "metadata": {
        "id": "0lq-v14z3bQk"
      }
    },
    {
      "cell_type": "code",
      "source": [
        "# Kiểm tra một nội dung nhập vào có trùng không\n",
        "def verify_content(title, input_content):\n",
        "    input_hash = hash_content(input_content)\n",
        "    if title in original_hashes:\n",
        "        if input_hash == original_hashes[title]:\n",
        "            print(\"✅ Nội dung khớp với tác phẩm gốc.\")\n",
        "        else:\n",
        "            print(\"⚠️ Nội dung KHÔNG khớp với tác phẩm gốc!\")\n",
        "    else:\n",
        "        print(\"❌ Tác phẩm chưa được đăng ký.\")\n",
        "\n",
        "# Kiểm tra một nội dung bị chỉnh sửa\n",
        "verify_content(\"Bức tranh quê\", \"Chiều buông xuống làng quê yên bình, khói lam chiều khắp triền đê.\")\n"
      ],
      "metadata": {
        "colab": {
          "base_uri": "https://localhost:8080/"
        },
        "id": "27Tok-4F3dJN",
        "outputId": "0dfc47c0-5d2b-4b69-fbb5-b8f2c5b8e56f"
      },
      "execution_count": null,
      "outputs": [
        {
          "output_type": "stream",
          "name": "stdout",
          "text": [
            "⚠️ Nội dung KHÔNG khớp với tác phẩm gốc!\n"
          ]
        }
      ]
    }
  ]
}