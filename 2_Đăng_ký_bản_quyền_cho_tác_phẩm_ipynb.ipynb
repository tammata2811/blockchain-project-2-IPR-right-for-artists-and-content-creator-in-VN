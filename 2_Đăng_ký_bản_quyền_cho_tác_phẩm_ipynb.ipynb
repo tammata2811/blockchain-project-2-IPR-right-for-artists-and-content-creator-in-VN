{
  "nbformat": 4,
  "nbformat_minor": 0,
  "metadata": {
    "colab": {
      "provenance": [],
      "authorship_tag": "ABX9TyPQ/OXEh0dEXUj1eBrjh+4W",
      "include_colab_link": true
    },
    "kernelspec": {
      "name": "python3",
      "display_name": "Python 3"
    },
    "language_info": {
      "name": "python"
    }
  },
  "cells": [
    {
      "cell_type": "markdown",
      "metadata": {
        "id": "view-in-github",
        "colab_type": "text"
      },
      "source": [
        "<a href=\"https://colab.research.google.com/github/tammata2811/blockchain-project-2-IPR-right-for-artists-and-content-creator-in-VN/blob/main/2_%C4%90%C4%83ng_k%C3%BD_b%E1%BA%A3n_quy%E1%BB%81n_cho_t%C3%A1c_ph%E1%BA%A9m_ipynb.ipynb\" target=\"_parent\"><img src=\"https://colab.research.google.com/assets/colab-badge.svg\" alt=\"Open In Colab\"/></a>"
      ]
    },
    {
      "cell_type": "markdown",
      "source": [],
      "metadata": {
        "id": "_8FXGSUb4vjN"
      }
    },
    {
      "cell_type": "markdown",
      "source": [
        "### 1: Lớp CopyrightRegistry đơn giản"
      ],
      "metadata": {
        "id": "WmZ_b6Vk4wlD"
      }
    },
    {
      "cell_type": "code",
      "source": [
        "# Registry đơn giản mô phỏng hệ thống đăng ký bản quyền\n",
        "class CopyrightRegistry:\n",
        "    def __init__(self):\n",
        "        self.registry = {}\n",
        "\n",
        "    def register_work(self, creator_name, title, description, creation_date):\n",
        "        work_id = generate_id(creator_name + title)\n",
        "        self.registry[work_id] = {\n",
        "            \"creator\": creator_name,\n",
        "            \"title\": title,\n",
        "            \"description\": description,\n",
        "            \"creation_date\": creation_date,\n",
        "            \"registration_time\": datetime.datetime.now().isoformat()\n",
        "        }\n",
        "        print(f\"✅ Tác phẩm '{title}' đã được đăng ký với ID: {work_id[:10]}...\")\n",
        "        return work_id\n",
        "\n",
        "    def view_registered_work(self, work_id):\n",
        "        if work_id in self.registry:\n",
        "            print(\"\\n📄 Thông tin tác phẩm đã đăng ký:\")\n",
        "            for key, value in self.registry[work_id].items():\n",
        "                print(f\"  {key}: {value}\")\n",
        "        else:\n",
        "            print(\"❌ Không tìm thấy tác phẩm.\")\n"
      ],
      "metadata": {
        "id": "6X98R8k640fR"
      },
      "execution_count": null,
      "outputs": []
    },
    {
      "cell_type": "code",
      "source": [
        "### 2: Mô phỏng đăng ký một tác phẩm"
      ],
      "metadata": {
        "id": "i8pzt4fF5KLl"
      },
      "execution_count": null,
      "outputs": []
    },
    {
      "cell_type": "code",
      "source": [
        "import datetime\n",
        "import hashlib\n",
        "\n",
        "# Registry đơn giản mô phỏng hệ thống đăng ký bản quyền\n",
        "class CopyrightRegistry:\n",
        "    def __init__(self):\n",
        "        self.registry = {}\n",
        "\n",
        "    def register_work(self, creator_name, title, description, creation_date):\n",
        "        # Define generate_id function inside the class\n",
        "        def generate_id(input_string):\n",
        "            \"\"\"Generates a unique ID using SHA256 hash.\"\"\"\n",
        "            return hashlib.sha256(input_string.encode('utf-8')).hexdigest()\n",
        "\n",
        "        work_id = generate_id(creator_name + title)\n",
        "        self.registry[work_id] = {\n",
        "            \"creator\": creator_name,\n",
        "            \"title\": title,\n",
        "            \"description\": description,\n",
        "            \"creation_date\": creation_date,\n",
        "            \"registration_time\": datetime.datetime.now().isoformat()\n",
        "        }\n",
        "        print(f\"✅ Tác phẩm '{title}' đã được đăng ký với ID: {work_id[:10]}...\")\n",
        "        return work_id\n",
        "\n",
        "    def view_registered_work(self, work_id):\n",
        "        if work_id in self.registry:\n",
        "            print(\"\\n📄 Thông tin tác phẩm đã đăng ký:\")\n",
        "            for key, value in self.registry[work_id].items():\n",
        "                print(f\"  {key}: {value}\")\n",
        "        else:\n",
        "            print(\"❌ Không tìm thấy tác phẩm.\")"
      ],
      "metadata": {
        "id": "rx_Va9z450VT"
      },
      "execution_count": null,
      "outputs": []
    },
    {
      "cell_type": "markdown",
      "source": [
        "### 3: Xem thông tin bản quyền đã đăng ký"
      ],
      "metadata": {
        "id": "elD2kF0U53Nl"
      }
    },
    {
      "cell_type": "code",
      "source": [
        "import datetime\n",
        "import hashlib\n",
        "\n",
        "class CopyrightRegistry:\n",
        "    def __init__(self):\n",
        "        self.registry = {}\n",
        "\n",
        "    def register_work(self, creator_name, title, description, creation_date):\n",
        "        # Define generate_id function inside the class\n",
        "        def generate_id(input_string):\n",
        "            \"\"\"Generates a unique ID using SHA256 hash.\"\"\"\n",
        "            return hashlib.sha256(input_string.encode('utf-8')).hexdigest()\n",
        "\n",
        "        work_id = generate_id(creator_name + title)\n",
        "        self.registry[work_id] = {\n",
        "            \"creator\": creator_name,\n",
        "            \"title\": title,\n",
        "            \"description\": description,\n",
        "            \"creation_date\": creation_date,\n",
        "            \"registration_time\": datetime.datetime.now().isoformat()\n",
        "        }\n",
        "        print(f\"✅ Tác phẩm '{title}' đã được đăng ký với ID: {work_id[:10]}...\")\n",
        "        return work_id\n",
        "\n",
        "    def view_registered_work(self, work_id):\n",
        "        if work_id in self.registry:\n",
        "            print(\"\\n📄 Thông tin tác phẩm đã đăng ký:\")\n",
        "            for key, value in self.registry[work_id].items():\n",
        "                print(f\"  {key}: {value}\")\n",
        "        else:\n",
        "            print(\"❌ Không tìm thấy tác phẩm.\")\n",
        "\n",
        "# Initialize the copyright system\n",
        "copyright_system = CopyrightRegistry()\n",
        "\n",
        "# Register a work to get a work_id\n",
        "# Replace with your actual work details\n",
        "work_id = copyright_system.register_work(\n",
        "    creator_name=\"Hoa Minzy\",\n",
        "    title=\"Bac Bling\",\n",
        "    description=\"Top 1 Trending Youtube\",\n",
        "    creation_date=\"2025-5-5\"\n",
        ")\n",
        "\n",
        "# Now you can view the registered work using the work_id\n",
        "copyright_system.view_registered_work(work_id)"
      ],
      "metadata": {
        "colab": {
          "base_uri": "https://localhost:8080/"
        },
        "id": "1GZKOypG6W3K",
        "outputId": "cd01adec-9cc9-4da6-a8a7-34f38a0eb958"
      },
      "execution_count": null,
      "outputs": [
        {
          "output_type": "stream",
          "name": "stdout",
          "text": [
            "✅ Tác phẩm 'Bac Bling' đã được đăng ký với ID: 1a52d80927...\n",
            "\n",
            "📄 Thông tin tác phẩm đã đăng ký:\n",
            "  creator: Hoa Minzy\n",
            "  title: Bac Bling\n",
            "  description: Top 1 Trending Youtube\n",
            "  creation_date: 2025-5-5\n",
            "  registration_time: 2025-05-08T17:21:02.136578\n"
          ]
        }
      ]
    }
  ]
}