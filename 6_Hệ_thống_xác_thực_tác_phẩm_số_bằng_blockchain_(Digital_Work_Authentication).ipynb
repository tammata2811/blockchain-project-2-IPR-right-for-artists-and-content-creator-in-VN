{
  "nbformat": 4,
  "nbformat_minor": 0,
  "metadata": {
    "colab": {
      "provenance": [],
      "authorship_tag": "ABX9TyMg3zv5R8lvUbQJ92D16DMM",
      "include_colab_link": true
    },
    "kernelspec": {
      "name": "python3",
      "display_name": "Python 3"
    },
    "language_info": {
      "name": "python"
    }
  },
  "cells": [
    {
      "cell_type": "markdown",
      "metadata": {
        "id": "view-in-github",
        "colab_type": "text"
      },
      "source": [
        "<a href=\"https://colab.research.google.com/github/tammata2811/blockchain-project-2-IPR-right-for-artists-and-content-creator-in-VN/blob/main/6_H%E1%BB%87_th%E1%BB%91ng_x%C3%A1c_th%E1%BB%B1c_t%C3%A1c_ph%E1%BA%A9m_s%E1%BB%91_b%E1%BA%B1ng_blockchain_(Digital_Work_Authentication).ipynb\" target=\"_parent\"><img src=\"https://colab.research.google.com/assets/colab-badge.svg\" alt=\"Open In Colab\"/></a>"
      ]
    },
    {
      "cell_type": "markdown",
      "source": [
        "### 1: Hàm băm SHA256 để tạo ID tác phẩm và kiểm tra tính toàn vẹn"
      ],
      "metadata": {
        "id": "H5ZpsTPrwEdD"
      }
    },
    {
      "cell_type": "code",
      "source": [
        "import hashlib\n",
        "\n",
        "def hash_work(content: str) -> str:\n",
        "    return hashlib.sha256(content.encode()).hexdigest()\n"
      ],
      "metadata": {
        "id": "cRh0fc-3wFV5"
      },
      "execution_count": null,
      "outputs": []
    },
    {
      "cell_type": "markdown",
      "source": [
        "### 2: Lớp mô tả Tác phẩm số (DigitalWork) với hàm xác thực"
      ],
      "metadata": {
        "id": "TZCr1K6xwV0f"
      }
    },
    {
      "cell_type": "code",
      "source": [
        "class DigitalWork:\n",
        "    def __init__(self, title, author, content):\n",
        "        self.title = title\n",
        "        self.author = author\n",
        "        self.content = content\n",
        "        self.hash = hash_work(content)\n",
        "\n",
        "    def verify_integrity(self, content_to_check):\n",
        "        return self.hash == hash_work(content_to_check)\n"
      ],
      "metadata": {
        "id": "a7KEnRFnwYHI"
      },
      "execution_count": null,
      "outputs": []
    },
    {
      "cell_type": "markdown",
      "source": [
        "### 3: Mô phỏng một \"Blockchain\" đơn giản để lưu hash xác thực"
      ],
      "metadata": {
        "id": "GD0vCMOywaAE"
      }
    },
    {
      "cell_type": "code",
      "source": [
        "class AuthBlockchain:\n",
        "    def __init__(self):\n",
        "        self.registry = {}  # key = work title, value = hash\n",
        "\n",
        "    def register_work(self, digital_work: DigitalWork):\n",
        "        if digital_work.title in self.registry:\n",
        "            print(f\"[!] Tác phẩm '{digital_work.title}' đã được đăng ký.\")\n",
        "            return False\n",
        "        self.registry[digital_work.title] = digital_work.hash\n",
        "        print(f\"[+] Đăng ký thành công: {digital_work.title}\")\n",
        "        return True\n",
        "\n",
        "    def authenticate(self, title, content_to_check):\n",
        "        if title not in self.registry:\n",
        "            print(f\"[!] Tác phẩm '{title}' chưa được đăng ký.\")\n",
        "            return False\n",
        "        expected_hash = self.registry[title]\n",
        "        actual_hash = hash_work(content_to_check)\n",
        "        if expected_hash == actual_hash:\n",
        "            print(f\"[✔] Tác phẩm '{title}' xác thực thành công.\")\n",
        "            return True\n",
        "        else:\n",
        "            print(f\"[✘] Tác phẩm '{title}' không khớp dữ liệu gốc.\")\n",
        "            return False\n"
      ],
      "metadata": {
        "id": "oMIz4Vt9wfcb"
      },
      "execution_count": null,
      "outputs": []
    },
    {
      "cell_type": "markdown",
      "source": [
        "### 4: Chạy thử mô phỏng xác thực tác phẩm"
      ],
      "metadata": {
        "id": "t0Hf6QJSwiQ7"
      }
    },
    {
      "cell_type": "code",
      "source": [
        "# Tạo tác phẩm số\n",
        "original_work = DigitalWork(\"Bức Tranh Biển\", \"Nguyen Van A\", \"Nội dung gốc của tác phẩm biển\")\n",
        "\n",
        "# Khởi tạo blockchain xác thực\n",
        "auth_chain = AuthBlockchain()\n",
        "\n",
        "# Đăng ký tác phẩm\n",
        "auth_chain.register_work(original_work)\n",
        "\n",
        "# Thử xác thực với nội dung đúng\n",
        "auth_chain.authenticate(\"Bức Tranh Biển\", \"Nội dung gốc của tác phẩm biển\")\n",
        "\n",
        "# Thử xác thực với nội dung sai\n",
        "auth_chain.authenticate(\"Bức Tranh Biển\", \"Nội dung bị sửa đổi\")\n"
      ],
      "metadata": {
        "colab": {
          "base_uri": "https://localhost:8080/"
        },
        "id": "lPri2otZwmqb",
        "outputId": "aee8abd9-80bf-45aa-9788-e357f13d4744"
      },
      "execution_count": null,
      "outputs": [
        {
          "output_type": "stream",
          "name": "stdout",
          "text": [
            "[+] Đăng ký thành công: Bức Tranh Biển\n",
            "[✔] Tác phẩm 'Bức Tranh Biển' xác thực thành công.\n",
            "[✘] Tác phẩm 'Bức Tranh Biển' không khớp dữ liệu gốc.\n"
          ]
        },
        {
          "output_type": "execute_result",
          "data": {
            "text/plain": [
              "False"
            ]
          },
          "metadata": {},
          "execution_count": 4
        }
      ]
    }
  ]
}