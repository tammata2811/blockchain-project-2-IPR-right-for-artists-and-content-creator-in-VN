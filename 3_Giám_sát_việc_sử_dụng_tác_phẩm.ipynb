{
  "nbformat": 4,
  "nbformat_minor": 0,
  "metadata": {
    "colab": {
      "provenance": [],
      "include_colab_link": true
    },
    "kernelspec": {
      "name": "python3",
      "display_name": "Python 3"
    },
    "language_info": {
      "name": "python"
    }
  },
  "cells": [
    {
      "cell_type": "markdown",
      "metadata": {
        "id": "view-in-github",
        "colab_type": "text"
      },
      "source": [
        "<a href=\"https://colab.research.google.com/github/tammata2811/blockchain-project-2-IPR-right-for-artists-and-content-creator-in-VN/blob/main/3_Gi%C3%A1m_s%C3%A1t_vi%E1%BB%87c_s%E1%BB%AD_d%E1%BB%A5ng_t%C3%A1c_ph%E1%BA%A9m.ipynb\" target=\"_parent\"><img src=\"https://colab.research.google.com/assets/colab-badge.svg\" alt=\"Open In Colab\"/></a>"
      ]
    },
    {
      "cell_type": "code",
      "execution_count": null,
      "metadata": {
        "id": "bHLM0JYlq8ls"
      },
      "outputs": [],
      "source": [
        "### 1: Khởi tạo hàm tạo ID duy nhất"
      ]
    },
    {
      "cell_type": "code",
      "source": [
        "import hashlib\n",
        "\n",
        "# Hàm tạo mã băm SHA256 làm ID duy nhất cho tác phẩm\n",
        "def generate_id(input_str):\n",
        "    return hashlib.sha256(input_str.encode()).hexdigest()\n"
      ],
      "metadata": {
        "id": "s8bFEGsdrFpp"
      },
      "execution_count": null,
      "outputs": []
    },
    {
      "cell_type": "markdown",
      "source": [
        "###2: Định nghĩa lớp DigitalAsset (Tác phẩm số)"
      ],
      "metadata": {
        "id": "EP9TYss-rI-l"
      }
    },
    {
      "cell_type": "code",
      "source": [
        "import datetime\n",
        "\n",
        "# Lớp đại diện cho một tác phẩm số có lịch sử sử dụng\n",
        "class DigitalAsset:\n",
        "    def __init__(self, owner_name, title, content_type, creation_date):\n",
        "        self.asset_id = generate_id(owner_name + title)\n",
        "        self.owner = owner_name\n",
        "        self.title = title\n",
        "        self.content_type = content_type\n",
        "        self.creation_date = creation_date\n",
        "        self.usage_logs = []\n",
        "\n",
        "    def log_usage(self, user_wallet, action_type, platform=\"Unknown\"):\n",
        "        timestamp = datetime.datetime.now().isoformat()\n",
        "        log_entry = {\n",
        "            \"timestamp\": timestamp,\n",
        "            \"user_wallet\": user_wallet,\n",
        "            \"action_type\": action_type,\n",
        "            \"platform\": platform\n",
        "        }\n",
        "        self.usage_logs.append(log_entry)\n",
        "        print(f\"[📍] Ghi nhận: {user_wallet} đã '{action_type}' trên {platform} lúc {timestamp}\")\n",
        "\n",
        "    def view_usage_history(self):\n",
        "        print(f\"\\n📊 Lịch sử sử dụng của: {self.title} (ID: {self.asset_id[:10]}...)\\n\")\n",
        "        if not self.usage_logs:\n",
        "            print(\"  🚫 Chưa có ai sử dụng.\")\n",
        "            return\n",
        "        for log in self.usage_logs:\n",
        "            print(f\"  • {log['timestamp']} | {log['user_wallet']} | {log['action_type']} | {log['platform']}\")\n"
      ],
      "metadata": {
        "id": "bp59by0zrMeU"
      },
      "execution_count": null,
      "outputs": []
    },
    {
      "cell_type": "markdown",
      "source": [],
      "metadata": {
        "id": "B8bBNfnYrAWv"
      }
    },
    {
      "cell_type": "markdown",
      "source": [
        "### 3: Tạo một tác phẩm mẫu"
      ],
      "metadata": {
        "id": "Y2YLvM4irUV4"
      }
    },
    {
      "cell_type": "code",
      "source": [
        "# Tạo một tác phẩm mẫu\n",
        "my_asset = DigitalAsset(\n",
        "    owner_name=\"Sơn Tùng M-TP\",\n",
        "    title=\"MV: Chạy ngay đi\",\n",
        "    content_type=\"Music Video\",\n",
        "    creation_date=\"2024-12-01\"\n",
        ")\n",
        "print(f\"✅ Tác phẩm '{my_asset.title}' được tạo với ID: {my_asset.asset_id[:10]}...\")\n"
      ],
      "metadata": {
        "colab": {
          "base_uri": "https://localhost:8080/"
        },
        "id": "955vdEPirYuH",
        "outputId": "178b8b3d-fe01-43e1-9657-a2febe21cbf4"
      },
      "execution_count": null,
      "outputs": [
        {
          "output_type": "stream",
          "name": "stdout",
          "text": [
            "✅ Tác phẩm 'MV: Chạy ngay đi' được tạo với ID: 64ccb2fb3e...\n"
          ]
        }
      ]
    },
    {
      "cell_type": "markdown",
      "source": [
        "### 4: Mô phỏng các hành vi sử dụng tác phẩm"
      ],
      "metadata": {
        "id": "3T3461z-rcqC"
      }
    },
    {
      "cell_type": "code",
      "source": [
        "# Mô phỏng người dùng sử dụng tác phẩm\n",
        "my_asset.log_usage(user_wallet=\"0xUserABC\", action_type=\"streaming\", platform=\"YouTube\")\n",
        "my_asset.log_usage(user_wallet=\"0xUserDEF\", action_type=\"play_audio\", platform=\"Spotify\")\n",
        "my_asset.log_usage(user_wallet=\"0xUserGHI\", action_type=\"embed_on_website\", platform=\"Blog cá nhân\")\n"
      ],
      "metadata": {
        "id": "JzDure1Nrf9K",
        "outputId": "7c4f7b9c-940b-4837-92bd-dcf232a1eb2f",
        "colab": {
          "base_uri": "https://localhost:8080/"
        }
      },
      "execution_count": null,
      "outputs": [
        {
          "output_type": "stream",
          "name": "stdout",
          "text": [
            "[📍] Ghi nhận: 0xUserABC đã 'streaming' trên YouTube lúc 2025-05-09T06:14:21.643024\n",
            "[📍] Ghi nhận: 0xUserDEF đã 'play_audio' trên Spotify lúc 2025-05-09T06:14:21.643182\n",
            "[📍] Ghi nhận: 0xUserGHI đã 'embed_on_website' trên Blog cá nhân lúc 2025-05-09T06:14:21.643244\n"
          ]
        }
      ]
    },
    {
      "cell_type": "markdown",
      "source": [
        "### 5: Xem lịch sử sử dụng"
      ],
      "metadata": {
        "id": "COPj59rAr4e2"
      }
    },
    {
      "cell_type": "code",
      "source": [
        "# In lịch sử sử dụng\n",
        "my_asset.view_usage_history()\n"
      ],
      "metadata": {
        "id": "7r9QCpuKr8AZ",
        "outputId": "c9123d75-0e3d-456b-9ffd-db1718b19277",
        "colab": {
          "base_uri": "https://localhost:8080/"
        }
      },
      "execution_count": null,
      "outputs": [
        {
          "output_type": "stream",
          "name": "stdout",
          "text": [
            "\n",
            "📊 Lịch sử sử dụng của: MV: Chạy ngay đi (ID: 64ccb2fb3e...)\n",
            "\n",
            "  • 2025-05-09T06:14:21.643024 | 0xUserABC | streaming | YouTube\n",
            "  • 2025-05-09T06:14:21.643182 | 0xUserDEF | play_audio | Spotify\n",
            "  • 2025-05-09T06:14:21.643244 | 0xUserGHI | embed_on_website | Blog cá nhân\n"
          ]
        }
      ]
    }
  ]
}