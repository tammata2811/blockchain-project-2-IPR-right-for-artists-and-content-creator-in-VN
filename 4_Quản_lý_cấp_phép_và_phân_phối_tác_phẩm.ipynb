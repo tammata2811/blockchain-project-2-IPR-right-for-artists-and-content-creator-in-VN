{
  "nbformat": 4,
  "nbformat_minor": 0,
  "metadata": {
    "colab": {
      "provenance": [],
      "authorship_tag": "ABX9TyPLMDuOZPlvWffMQNds0qxW",
      "include_colab_link": true
    },
    "kernelspec": {
      "name": "python3",
      "display_name": "Python 3"
    },
    "language_info": {
      "name": "python"
    }
  },
  "cells": [
    {
      "cell_type": "markdown",
      "metadata": {
        "id": "view-in-github",
        "colab_type": "text"
      },
      "source": [
        "<a href=\"https://colab.research.google.com/github/tammata2811/blockchain-project-2-IPR-right-for-artists-and-content-creator-in-VN/blob/main/4_Qu%E1%BA%A3n_l%C3%BD_c%E1%BA%A5p_ph%C3%A9p_v%C3%A0_ph%C3%A2n_ph%E1%BB%91i_t%C3%A1c_ph%E1%BA%A9m.ipynb\" target=\"_parent\"><img src=\"https://colab.research.google.com/assets/colab-badge.svg\" alt=\"Open In Colab\"/></a>"
      ]
    },
    {
      "cell_type": "markdown",
      "source": [
        "### 1: Khởi tạo hàm tạo ID và lớp License"
      ],
      "metadata": {
        "id": "jeJsVQM2uptb"
      }
    },
    {
      "cell_type": "code",
      "source": [
        "import hashlib\n",
        "import datetime\n",
        "\n",
        "# Hàm tạo ID duy nhất cho giấy phép\n",
        "def generate_license_id(asset_title, licensee_wallet):\n",
        "    data = asset_title + licensee_wallet + datetime.datetime.now().isoformat()\n",
        "    return hashlib.sha256(data.encode()).hexdigest()\n",
        "\n",
        "# Lớp giấy phép sử dụng tác phẩm\n",
        "class License:\n",
        "    def __init__(self, asset_title, licensee_wallet, license_type, expiry_date):\n",
        "        self.license_id = generate_license_id(asset_title, licensee_wallet)\n",
        "        self.asset_title = asset_title\n",
        "        self.licensee = licensee_wallet\n",
        "        self.license_type = license_type\n",
        "        self.issue_date = datetime.datetime.now().isoformat()\n",
        "        self.expiry_date = expiry_date\n",
        "        self.valid = True\n",
        "\n",
        "    def revoke(self):\n",
        "        self.valid = False\n",
        "        print(f\"🚫 Giấy phép {self.license_id[:10]}... đã bị thu hồi.\")\n",
        "\n",
        "    def is_active(self):\n",
        "        now = datetime.datetime.now()\n",
        "        return self.valid and now < datetime.datetime.fromisoformat(self.expiry_date)\n"
      ],
      "metadata": {
        "id": "P7c3ZZx1urHu"
      },
      "execution_count": null,
      "outputs": []
    },
    {
      "cell_type": "markdown",
      "source": [
        "### 2: Tạo lớp LicenseManager để quản lý nhiều giấy phép"
      ],
      "metadata": {
        "id": "QkWWuA8jux0B"
      }
    },
    {
      "cell_type": "code",
      "source": [
        "# Quản lý danh sách giấy phép\n",
        "class LicenseManager:\n",
        "    def __init__(self):\n",
        "        self.licenses = {}\n",
        "\n",
        "    def issue_license(self, asset_title, licensee_wallet, license_type, expiry_date):\n",
        "        license_obj = License(asset_title, licensee_wallet, license_type, expiry_date)\n",
        "        self.licenses[license_obj.license_id] = license_obj\n",
        "        print(f\"✅ Cấp giấy phép: {license_obj.license_id[:10]}... cho {licensee_wallet}\")\n",
        "        return license_obj\n",
        "\n",
        "    def revoke_license(self, license_id):\n",
        "        if license_id in self.licenses:\n",
        "            self.licenses[license_id].revoke()\n",
        "        else:\n",
        "            print(\"❌ Không tìm thấy giấy phép.\")\n",
        "\n",
        "    def list_active_licenses(self):\n",
        "        print(\"\\n📋 Danh sách giấy phép còn hiệu lực:\")\n",
        "        for l in self.licenses.values():\n",
        "            if l.is_active():\n",
        "                print(f\"• {l.license_id[:10]}... | {l.licensee} | {l.license_type} | Hết hạn: {l.expiry_date}\")\n"
      ],
      "metadata": {
        "id": "ywl_4mG-u2eL"
      },
      "execution_count": null,
      "outputs": []
    },
    {
      "cell_type": "markdown",
      "source": [
        "### 3: Mô phỏng cấp và thu hồi giấy phép"
      ],
      "metadata": {
        "id": "UgOTU-muu6T_"
      }
    },
    {
      "cell_type": "code",
      "source": [
        "# Khởi tạo hệ thống quản lý cấp phép\n",
        "manager = LicenseManager()\n",
        "\n",
        "# Cấp một số giấy phép\n",
        "license1 = manager.issue_license(\"MV: Chạy ngay đi\", \"0xUserAAA\", \"streaming\", \"2025-12-31\")\n",
        "license2 = manager.issue_license(\"MV: Chạy ngay đi\", \"0xUserBBB\", \"download\", \"2025-06-30\")\n",
        "\n",
        "# Thu hồi một giấy phép\n",
        "manager.revoke_license(license2.license_id)\n"
      ],
      "metadata": {
        "colab": {
          "base_uri": "https://localhost:8080/"
        },
        "id": "gu75JMLCu-db",
        "outputId": "87ee5b26-bd40-4639-af37-e36e9e824e37"
      },
      "execution_count": null,
      "outputs": [
        {
          "output_type": "stream",
          "name": "stdout",
          "text": [
            "✅ Cấp giấy phép: 5acb069e3d... cho 0xUserAAA\n",
            "✅ Cấp giấy phép: 4a2e9a4ba8... cho 0xUserBBB\n",
            "🚫 Giấy phép 4a2e9a4ba8... đã bị thu hồi.\n"
          ]
        }
      ]
    },
    {
      "cell_type": "markdown",
      "source": [
        "### 4: Liệt kê giấy phép còn hiệu lực"
      ],
      "metadata": {
        "id": "l4C_td2AvCr0"
      }
    },
    {
      "cell_type": "code",
      "source": [
        "manager.list_active_licenses()\n"
      ],
      "metadata": {
        "colab": {
          "base_uri": "https://localhost:8080/"
        },
        "id": "fcmSc45JvHGM",
        "outputId": "3e70f62e-203e-461e-9ffc-9e1a7161a6ef"
      },
      "execution_count": null,
      "outputs": [
        {
          "output_type": "stream",
          "name": "stdout",
          "text": [
            "\n",
            "📋 Danh sách giấy phép còn hiệu lực:\n",
            "• 5acb069e3d... | 0xUserAAA | streaming | Hết hạn: 2025-12-31\n"
          ]
        }
      ]
    }
  ]
}