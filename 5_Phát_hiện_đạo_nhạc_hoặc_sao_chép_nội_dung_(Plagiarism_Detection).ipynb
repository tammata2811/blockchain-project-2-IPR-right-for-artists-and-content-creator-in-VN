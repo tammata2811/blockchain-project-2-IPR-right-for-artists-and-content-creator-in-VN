{
  "nbformat": 4,
  "nbformat_minor": 0,
  "metadata": {
    "colab": {
      "provenance": [],
      "authorship_tag": "ABX9TyMHsAqyvggD9mMoA/YuFBzg",
      "include_colab_link": true
    },
    "kernelspec": {
      "name": "python3",
      "display_name": "Python 3"
    },
    "language_info": {
      "name": "python"
    }
  },
  "cells": [
    {
      "cell_type": "markdown",
      "metadata": {
        "id": "view-in-github",
        "colab_type": "text"
      },
      "source": [
        "<a href=\"https://colab.research.google.com/github/tammata2811/blockchain-project-2-IPR-right-for-artists-and-content-creator-in-VN/blob/main/5_Ph%C3%A1t_hi%E1%BB%87n_%C4%91%E1%BA%A1o_nh%E1%BA%A1c_ho%E1%BA%B7c_sao_ch%C3%A9p_n%E1%BB%99i_dung_(Plagiarism_Detection).ipynb\" target=\"_parent\"><img src=\"https://colab.research.google.com/assets/colab-badge.svg\" alt=\"Open In Colab\"/></a>"
      ]
    },
    {
      "cell_type": "markdown",
      "source": [
        "### 1: Cài đặt thư viện difflib và khởi tạo hàm so sánh"
      ],
      "metadata": {
        "id": "il8NdoJTvmwN"
      }
    },
    {
      "cell_type": "code",
      "source": [
        "import difflib\n",
        "\n",
        "# Hàm so sánh nội dung 2 tác phẩm\n",
        "def compare_works(content_a, content_b):\n",
        "    ratio = difflib.SequenceMatcher(None, content_a, content_b).ratio()\n",
        "    print(f\"📊 Độ giống nhau: {round(ratio * 100, 2)}%\")\n",
        "    if ratio > 0.8:\n",
        "        print(\"⚠️ Có thể là đạo nhái hoặc sao chép nội dung.\")\n",
        "    else:\n",
        "        print(\"✅ Không có dấu hiệu sao chép.\")\n"
      ],
      "metadata": {
        "id": "y9JUWUHXvn6n"
      },
      "execution_count": null,
      "outputs": []
    },
    {
      "cell_type": "markdown",
      "source": [
        "### 2: Mô phỏng so sánh hai tác phẩm âm nhạc (phần lời)"
      ],
      "metadata": {
        "id": "DdLyj_ghvtxU"
      }
    },
    {
      "cell_type": "code",
      "source": [
        "# Tác phẩm gốc\n",
        "original_lyrics = \"\"\"\n",
        "Anh đi tìm em như tìm giấc mơ\n",
        "Giữa bao la đất trời rộng lớn\n",
        "Những con đường xưa giờ không thấy\n",
        "Chỉ còn tiếng gió hát về đêm\n",
        "\"\"\"\n",
        "\n",
        "# Tác phẩm nghi ngờ\n",
        "suspicious_lyrics = \"\"\"\n",
        "Anh tìm về nơi xưa giấc mơ mịt mờ\n",
        "Gió vẫn hát bài hát giữa trời rộng\n",
        "Nhưng bóng em giờ không còn ở đó\n",
        "\"\"\"\n",
        "\n",
        "# So sánh\n",
        "compare_works(original_lyrics, suspicious_lyrics)\n"
      ],
      "metadata": {
        "colab": {
          "base_uri": "https://localhost:8080/"
        },
        "id": "KXIpKEu6vv77",
        "outputId": "be9a071b-9644-459d-c7e6-68118519e97d"
      },
      "execution_count": null,
      "outputs": [
        {
          "output_type": "stream",
          "name": "stdout",
          "text": [
            "📊 Độ giống nhau: 54.39%\n",
            "✅ Không có dấu hiệu sao chép.\n"
          ]
        }
      ]
    },
    {
      "cell_type": "markdown",
      "source": [
        "### 3: So sánh nhiều cặp tác phẩm"
      ],
      "metadata": {
        "id": "xt7EUqiyvzp3"
      }
    },
    {
      "cell_type": "code",
      "source": [
        "def batch_compare(work_list):\n",
        "    print(\"🔍 So sánh hàng loạt tác phẩm nghi ngờ...\\n\")\n",
        "    for i, (original, suspect) in enumerate(work_list):\n",
        "        print(f\"📌 So sánh cặp {i + 1}:\")\n",
        "        compare_works(original, suspect)\n",
        "        print(\"-\" * 40)\n",
        "\n",
        "# Danh sách cặp (tác phẩm gốc, tác phẩm nghi ngờ)\n",
        "pairs = [\n",
        "    (\n",
        "        \"Gió đưa anh về những ngày yêu dấu. Em cười trong nắng, mây bay như mộng.\",\n",
        "        \"Anh quay lại nơi xưa, nắng vàng vẫn còn đó. Gió thổi nhẹ qua như tiếng em cười.\"\n",
        "    ),\n",
        "    (\n",
        "        \"Bài hát này dành riêng cho em. Từng nốt nhạc là những kỷ niệm.\",\n",
        "        \"Bài hát em nghe hôm qua nghe quen lắm, như đã từng nghe rồi.\"\n",
        "    )\n",
        "]\n",
        "\n",
        "batch_compare(pairs)\n"
      ],
      "metadata": {
        "id": "QiXKVCNvv436",
        "outputId": "cc2be952-d14d-4b76-a2fd-e8db090d17a7",
        "colab": {
          "base_uri": "https://localhost:8080/"
        }
      },
      "execution_count": null,
      "outputs": [
        {
          "output_type": "stream",
          "name": "stdout",
          "text": [
            "🔍 So sánh hàng loạt tác phẩm nghi ngờ...\n",
            "\n",
            "📌 So sánh cặp 1:\n",
            "📊 Độ giống nhau: 23.84%\n",
            "✅ Không có dấu hiệu sao chép.\n",
            "----------------------------------------\n",
            "📌 So sánh cặp 2:\n",
            "📊 Độ giống nhau: 36.07%\n",
            "✅ Không có dấu hiệu sao chép.\n",
            "----------------------------------------\n"
          ]
        }
      ]
    }
  ]
}