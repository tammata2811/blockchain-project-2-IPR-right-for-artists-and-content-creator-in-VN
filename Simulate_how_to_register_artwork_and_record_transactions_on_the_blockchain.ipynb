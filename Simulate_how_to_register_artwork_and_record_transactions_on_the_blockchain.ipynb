{
  "nbformat": 4,
  "nbformat_minor": 0,
  "metadata": {
    "colab": {
      "provenance": [],
      "authorship_tag": "ABX9TyNnaqlgyUgrksgEyQHMAr5/",
      "include_colab_link": true
    },
    "kernelspec": {
      "name": "python3",
      "display_name": "Python 3"
    },
    "language_info": {
      "name": "python"
    }
  },
  "cells": [
    {
      "cell_type": "markdown",
      "metadata": {
        "id": "view-in-github",
        "colab_type": "text"
      },
      "source": [
        "<a href=\"https://colab.research.google.com/github/tammata2811/blockchain-project-2-IPR-right-for-artists-and-content-creator-in-VN/blob/main/Simulate_how_to_register_artwork_and_record_transactions_on_the_blockchain.ipynb\" target=\"_parent\"><img src=\"https://colab.research.google.com/assets/colab-badge.svg\" alt=\"Open In Colab\"/></a>"
      ]
    },
    {
      "cell_type": "markdown",
      "source": [
        "#Simulate how to register artwork and record transactions on the blockchain"
      ],
      "metadata": {
        "id": "HjJr-xcRLSca"
      }
    },
    {
      "cell_type": "markdown",
      "source": [
        "#### 1. Import libraries"
      ],
      "metadata": {
        "id": "9-bJMzOlLVTh"
      }
    },
    {
      "cell_type": "code",
      "execution_count": 1,
      "metadata": {
        "id": "dqTytsmBLGyX"
      },
      "outputs": [],
      "source": [
        "import hashlib\n",
        "import json\n",
        "import time\n",
        "from typing import List, Dict\n"
      ]
    },
    {
      "cell_type": "markdown",
      "source": [
        "####2. Blockchain classes"
      ],
      "metadata": {
        "id": "xIKY3KKhLlq1"
      }
    },
    {
      "cell_type": "code",
      "source": [
        "# Định nghĩa lớp Blockchain cơ bản\n",
        "class Blockchain:\n",
        "    def __init__(self):\n",
        "        self.chain: List[Dict] = []  # Danh sách các block trong chuỗi\n",
        "        self.current_transactions: List[Dict] = []  # Giao dịch đang chờ xử lý\n",
        "        self.create_block(previous_hash=\"1\", proof=100)  # Tạo block đầu tiên (genesis block)\n",
        "\n",
        "    def create_block(self, proof: int, previous_hash: str) -> Dict:\n",
        "        \"\"\"Tạo một block mới và thêm vào chuỗi\"\"\"\n",
        "        block = {\n",
        "            'index': len(self.chain) + 1,\n",
        "            'timestamp': time.time(),\n",
        "            'transactions': self.current_transactions,\n",
        "            'proof': proof,\n",
        "            'previous_hash': previous_hash,\n",
        "        }\n",
        "        self.current_transactions = []  # Xóa danh sách giao dịch sau khi thêm vào block\n",
        "        self.chain.append(block)\n",
        "        return block\n",
        "\n",
        "    def add_transaction(self, title: str, owner: str) -> int:\n",
        "        \"\"\"Thêm giao dịch đăng ký quyền sở hữu trí tuệ\"\"\"\n",
        "        self.current_transactions.append({\n",
        "            'title': title,\n",
        "            'owner': owner,\n",
        "            'timestamp': time.time()\n",
        "        })\n",
        "        return self.last_block['index'] + 1\n",
        "\n",
        "    @staticmethod\n",
        "    def hash(block: Dict) -> str:\n",
        "        \"\"\"Tạo hàm băm SHA-256 cho một block\"\"\"\n",
        "        block_string = json.dumps(block, sort_keys=True).encode()\n",
        "        return hashlib.sha256(block_string).hexdigest()\n",
        "\n",
        "    @property\n",
        "    def last_block(self) -> Dict:\n",
        "        \"\"\"Lấy block mới nhất trong chuỗi\"\"\"\n",
        "        return self.chain[-1]\n",
        "\n",
        "    def proof_of_work(self, last_proof: int) -> int:\n",
        "        \"\"\"Thuật toán Proof of Work đơn giản\"\"\"\n",
        "        proof = 0\n",
        "        while not self.valid_proof(last_proof, proof):\n",
        "            proof += 1\n",
        "        return proof\n",
        "\n",
        "    @staticmethod\n",
        "    def valid_proof(last_proof: int, proof: int) -> bool:\n",
        "        \"\"\"Kiểm tra xem proof có hợp lệ hay không\"\"\"\n",
        "        guess = f'{last_proof}{proof}'.encode()\n",
        "        guess_hash = hashlib.sha256(guess).hexdigest()\n",
        "        return guess_hash[:4] == \"0000\"  # Điều kiện để block hợp lệ\n"
      ],
      "metadata": {
        "id": "o64pAb8XL2Cm"
      },
      "execution_count": 2,
      "outputs": []
    },
    {
      "cell_type": "markdown",
      "source": [
        "####3. Blockchain initialization"
      ],
      "metadata": {
        "id": "PGlwlDXaL7av"
      }
    },
    {
      "cell_type": "code",
      "source": [
        "blockchain = Blockchain()\n"
      ],
      "metadata": {
        "id": "NwjO6eN4MGNc"
      },
      "execution_count": 3,
      "outputs": []
    },
    {
      "cell_type": "markdown",
      "source": [
        "####4. Add works registration transaction"
      ],
      "metadata": {
        "id": "f1Ct3hFfMJAq"
      }
    },
    {
      "cell_type": "code",
      "source": [
        "print(\"Đăng ký tác phẩm...\")\n",
        "blockchain.add_transaction(title=\"Tác phẩm A\", owner=\"Nguyễn Văn A\")\n",
        "blockchain.add_transaction(title=\"Tác phẩm B\", owner=\"Nguyễn Thị B\")\n"
      ],
      "metadata": {
        "colab": {
          "base_uri": "https://localhost:8080/"
        },
        "id": "FeedPmORMS5P",
        "outputId": "d8ecd4a6-22cc-488c-924a-328ce59a7cf4"
      },
      "execution_count": 4,
      "outputs": [
        {
          "output_type": "stream",
          "name": "stdout",
          "text": [
            "Đăng ký tác phẩm...\n"
          ]
        },
        {
          "output_type": "execute_result",
          "data": {
            "text/plain": [
              "2"
            ]
          },
          "metadata": {},
          "execution_count": 4
        }
      ]
    },
    {
      "cell_type": "markdown",
      "source": [
        "####5. Create new block from added transactions"
      ],
      "metadata": {
        "id": "w08pECZyMZq3"
      }
    },
    {
      "cell_type": "code",
      "source": [
        "print(\"Đang tạo block mới...\")\n",
        "last_proof = blockchain.last_block['proof']\n",
        "proof = blockchain.proof_of_work(last_proof)\n",
        "previous_hash = blockchain.hash(blockchain.last_block)\n",
        "blockchain.create_block(proof, previous_hash)\n"
      ],
      "metadata": {
        "colab": {
          "base_uri": "https://localhost:8080/"
        },
        "id": "CFhonylOMhdn",
        "outputId": "8b513454-4f22-47b5-fb59-efa38427267e"
      },
      "execution_count": 5,
      "outputs": [
        {
          "output_type": "stream",
          "name": "stdout",
          "text": [
            "Đang tạo block mới...\n"
          ]
        },
        {
          "output_type": "execute_result",
          "data": {
            "text/plain": [
              "{'index': 2,\n",
              " 'timestamp': 1744733092.8575687,\n",
              " 'transactions': [{'title': 'Tác phẩm A',\n",
              "   'owner': 'Nguyễn Văn A',\n",
              "   'timestamp': 1744733041.649666},\n",
              "  {'title': 'Tác phẩm B',\n",
              "   'owner': 'Nguyễn Thị B',\n",
              "   'timestamp': 1744733041.6497052}],\n",
              " 'proof': 35293,\n",
              " 'previous_hash': '9ba81a8d2b3366a689ddba6b618f6a57aee90ffcffbcb2564a9f211c7d86de84'}"
            ]
          },
          "metadata": {},
          "execution_count": 5
        }
      ]
    },
    {
      "cell_type": "markdown",
      "source": [
        "####6.Print blockchain"
      ],
      "metadata": {
        "id": "UuMgmgYUMlL3"
      }
    },
    {
      "cell_type": "code",
      "source": [
        "print(\"\\nChuỗi blockchain:\")\n",
        "for block in blockchain.chain:\n",
        "    print(json.dumps(block, indent=4))\n"
      ],
      "metadata": {
        "colab": {
          "base_uri": "https://localhost:8080/"
        },
        "id": "EY_oN1QjMqx_",
        "outputId": "e1215301-8c0f-45a5-ec21-175ac7aba947"
      },
      "execution_count": 6,
      "outputs": [
        {
          "output_type": "stream",
          "name": "stdout",
          "text": [
            "\n",
            "Chuỗi blockchain:\n",
            "{\n",
            "    \"index\": 1,\n",
            "    \"timestamp\": 1744732979.7081983,\n",
            "    \"transactions\": [],\n",
            "    \"proof\": 100,\n",
            "    \"previous_hash\": \"1\"\n",
            "}\n",
            "{\n",
            "    \"index\": 2,\n",
            "    \"timestamp\": 1744733092.8575687,\n",
            "    \"transactions\": [\n",
            "        {\n",
            "            \"title\": \"T\\u00e1c ph\\u1ea9m A\",\n",
            "            \"owner\": \"Nguy\\u1ec5n V\\u0103n A\",\n",
            "            \"timestamp\": 1744733041.649666\n",
            "        },\n",
            "        {\n",
            "            \"title\": \"T\\u00e1c ph\\u1ea9m B\",\n",
            "            \"owner\": \"Nguy\\u1ec5n Th\\u1ecb B\",\n",
            "            \"timestamp\": 1744733041.6497052\n",
            "        }\n",
            "    ],\n",
            "    \"proof\": 35293,\n",
            "    \"previous_hash\": \"9ba81a8d2b3366a689ddba6b618f6a57aee90ffcffbcb2564a9f211c7d86de84\"\n",
            "}\n"
          ]
        }
      ]
    }
  ]
}