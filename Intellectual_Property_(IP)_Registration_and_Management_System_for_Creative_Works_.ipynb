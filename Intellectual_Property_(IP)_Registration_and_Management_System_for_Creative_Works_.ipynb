{
  "nbformat": 4,
  "nbformat_minor": 0,
  "metadata": {
    "colab": {
      "provenance": [],
      "authorship_tag": "ABX9TyMQWk0lDMF5RHSZ8v8S53pG",
      "include_colab_link": true
    },
    "kernelspec": {
      "name": "python3",
      "display_name": "Python 3"
    },
    "language_info": {
      "name": "python"
    }
  },
  "cells": [
    {
      "cell_type": "markdown",
      "metadata": {
        "id": "view-in-github",
        "colab_type": "text"
      },
      "source": [
        "<a href=\"https://colab.research.google.com/github/tammata2811/blockchain-project-2-IPR-right-for-artists-and-content-creator-in-VN/blob/main/Intellectual_Property_(IP)_Registration_and_Management_System_for_Creative_Works_.ipynb\" target=\"_parent\"><img src=\"https://colab.research.google.com/assets/colab-badge.svg\" alt=\"Open In Colab\"/></a>"
      ]
    },
    {
      "cell_type": "markdown",
      "source": [
        "#Intellectual Property (IP) Registration and Management System for Creative Works for Artists and Content Creators in Vietnam"
      ],
      "metadata": {
        "id": "OROdKBHWidMo"
      }
    },
    {
      "cell_type": "markdown",
      "source": [
        "### This system includes the following functions:\n",
        "Registering copyright works\n",
        "\n",
        "Authentication and tracking of ownership with a unique ID (based on SHA256 hash)\n",
        "\n",
        "Transfer ownership to others\n",
        "\n",
        "View list of registered works\n",
        "\n",
        "View transfer history\n"
      ],
      "metadata": {
        "id": "eZFX4S8Hjj2r"
      }
    },
    {
      "cell_type": "markdown",
      "source": [
        "####1. Generate SHA256 Hash Function – used to generate work ID"
      ],
      "metadata": {
        "id": "GN7swnFeknk6"
      }
    },
    {
      "cell_type": "code",
      "source": [
        "import hashlib\n",
        "\n",
        "def hash_function(input_str: str) -> str:\n",
        "    return hashlib.sha256(input_str.encode()).hexdigest()\n"
      ],
      "metadata": {
        "id": "zY7DvwAvk1JW"
      },
      "execution_count": null,
      "outputs": []
    },
    {
      "cell_type": "markdown",
      "source": [
        "Purpose: Generate a unique ID for each work, from the author name and work title information."
      ],
      "metadata": {
        "id": "wl6ikbXGlIPG"
      }
    },
    {
      "cell_type": "markdown",
      "source": [
        "####2. Declare IP Asset and Transaction classes\n",
        "\n",
        "\n",
        "\n"
      ],
      "metadata": {
        "id": "Ct93eIEFlzsQ"
      }
    },
    {
      "cell_type": "code",
      "source": [
        "import time\n",
        "\n",
        "# Lưu thông tin tác phẩm\n",
        "class IPAsset:\n",
        "    def __init__(self, owner: str, title: str, content_type: str, creation_date: str, authority: str):\n",
        "        self.id = hash_function(owner + title)\n",
        "        self.owner = owner\n",
        "        self.title = title\n",
        "        self.content_type = content_type\n",
        "        self.creation_date = creation_date\n",
        "        self.authority = authority\n",
        "\n",
        "# Lưu thông tin giao dịch chuyển nhượng\n",
        "class Transaction:\n",
        "    def __init__(self, from_owner: str, to_owner: str, ip_id: str):\n",
        "        self.from_owner = from_owner\n",
        "        self.to_owner = to_owner\n",
        "        self.ip_id = ip_id\n",
        "        self.timestamp = time.time()\n"
      ],
      "metadata": {
        "id": "BOCWy_FLmDmY"
      },
      "execution_count": null,
      "outputs": []
    },
    {
      "cell_type": "markdown",
      "source": [
        "Objective: Modeling copyright works and licensing transactions.\n",
        "\n",
        "\n",
        "*   IP Asset: each copyright is an object with ID, author name, content type, registration authority...\n",
        "* Transaction: describes a transaction from A → B, when, with which work?\n",
        "\n"
      ],
      "metadata": {
        "id": "F-kaQM3MmMKC"
      }
    },
    {
      "cell_type": "markdown",
      "source": [
        "#### 3. Initialize IPChain system (blockchain simulation)"
      ],
      "metadata": {
        "id": "ObuWOr3lm6C5"
      }
    },
    {
      "cell_type": "code",
      "source": [
        "from typing import List, Dict\n",
        "\n",
        "class IPChain:\n",
        "    def __init__(self):\n",
        "        self.assets: Dict[str, IPAsset] = {}\n",
        "        self.transactions: Dict[str, List[Transaction]] = {}\n",
        "\n",
        "    def register_asset(self, owner: str, title: str, content_type: str, creation_date: str, authority: str) -> bool:\n",
        "        asset_id = hash_function(owner + title)\n",
        "        if asset_id in self.assets:\n",
        "            print(f\"[!] Bản quyền đã được đăng ký trước cho: {title}\")\n",
        "            return False\n",
        "\n",
        "        asset = IPAsset(owner, title, content_type, creation_date, authority)\n",
        "        self.assets[asset.id] = asset\n",
        "        print(f\"[+] Đăng ký bản quyền thành công cho: {owner} | Tác phẩm: {title}\")\n",
        "        return True\n",
        "\n",
        "    def transfer_rights(self, from_owner: str, to_owner: str, ip_id: str) -> bool:\n",
        "        asset = self.assets.get(ip_id)\n",
        "        if asset is None or asset.owner != from_owner:\n",
        "            print(\"[!] Giao dịch không hợp lệ.\")\n",
        "            return False\n",
        "\n",
        "        asset.owner = to_owner\n",
        "        transaction = Transaction(from_owner, to_owner, ip_id)\n",
        "        self.transactions.setdefault(ip_id, []).append(transaction)\n",
        "        print(f\"[+] Quyền sở hữu đã được chuyển sang: {to_owner}\")\n",
        "        return True\n",
        "\n",
        "    def print_assets(self):\n",
        "        print(\"\\n--- Danh sách bản quyền đã đăng ký ---\")\n",
        "        for asset in self.assets.values():\n",
        "            print(f\"- {asset.title} | Tác giả: {asset.owner} | Loại: {asset.content_type}\")\n",
        "\n",
        "    def print_transaction_history(self, ip_id: str):\n",
        "        tx_list = self.transactions.get(ip_id, [])\n",
        "        print(f\"\\nGiao dịch của tác phẩm {ip_id}:\")\n",
        "        for tx in tx_list:\n",
        "            timestamp_str = time.strftime('%Y-%m-%d %H:%M:%S', time.localtime(tx.timestamp))\n",
        "            print(f\"  {tx.from_owner} → {tx.to_owner} lúc {timestamp_str}\")\n"
      ],
      "metadata": {
        "id": "OvvPuCWynulZ"
      },
      "execution_count": null,
      "outputs": []
    },
    {
      "cell_type": "markdown",
      "source": [
        "Objective: The main system manages works and transactions.\n",
        "\n",
        "\n",
        "*   register_asset(...): register a work if there is no duplicate ID.\n",
        "*   transfer_rights(...): transfer rights from one person to another (if valid).\n",
        "\n",
        "*   print_assets(): print a list of works.\n",
        "*   print_transaction_history(...): print the transfer history of a work.\n",
        "\n",
        "\n",
        "\n"
      ],
      "metadata": {
        "id": "W5Ek_nQ8n3kg"
      }
    },
    {
      "cell_type": "markdown",
      "source": [
        "####4. Test the system"
      ],
      "metadata": {
        "id": "S7g1ZqONof5B"
      }
    },
    {
      "cell_type": "code",
      "source": [
        "ip_chain = IPChain()\n",
        "\n",
        "# Đăng ký hai tác phẩm\n",
        "ip_chain.register_asset(\"Bui Xuan Phai\", \"Tranh: Phố cổ Hà Nội\", \"Painting\", \"2025-03-31\", \"Cục Bản quyền tác giả\")\n",
        "ip_chain.register_asset(\"Hoa Minzy\", \"Ca khúc: Bắc Bling\", \"Music\", \"2025-04-01\", \"Cục Bản quyền tác giả\")\n",
        "\n",
        "# Chuyển quyền sở hữu từ Bui Xuan Phai sang Tran Tue Tam\n",
        "ip_id = hash_function(\"Bui Xuan Phai\" + \"Tranh: Phố cổ Hà Nội\")\n",
        "ip_chain.transfer_rights(\"Bui Xuan Phai\", \"Tran Tue Tam\", ip_id)\n",
        "\n",
        "# In danh sách tài sản\n",
        "ip_chain.print_assets()\n",
        "\n",
        "# In lịch sử giao dịch\n",
        "ip_chain.print_transaction_history(ip_id)\n"
      ],
      "metadata": {
        "id": "2eOysJGqo2mv",
        "colab": {
          "base_uri": "https://localhost:8080/"
        },
        "outputId": "35bf0bd4-6386-4249-ab46-60c972333944"
      },
      "execution_count": null,
      "outputs": [
        {
          "output_type": "stream",
          "name": "stdout",
          "text": [
            "[+] Đăng ký bản quyền thành công cho: Bui Xuan Phai | Tác phẩm: Tranh: Phố cổ Hà Nội\n",
            "[+] Đăng ký bản quyền thành công cho: Hoa Minzy | Tác phẩm: Ca khúc: Bắc Bling\n",
            "[+] Quyền sở hữu đã được chuyển sang: Tran Tue Tam\n",
            "\n",
            "--- Danh sách bản quyền đã đăng ký ---\n",
            "- Tranh: Phố cổ Hà Nội | Tác giả: Tran Tue Tam | Loại: Painting\n",
            "- Ca khúc: Bắc Bling | Tác giả: Hoa Minzy | Loại: Music\n",
            "\n",
            "Giao dịch của tác phẩm feb8c18687491ba06c3685152100be539472d2db79860f4f58dc7b3ffbb32584:\n",
            "  Bui Xuan Phai → Tran Tue Tam lúc 2025-04-15 13:55:50\n"
          ]
        }
      ]
    },
    {
      "cell_type": "markdown",
      "source": [],
      "metadata": {
        "id": "154zxriRlB8o"
      }
    }
  ]
}